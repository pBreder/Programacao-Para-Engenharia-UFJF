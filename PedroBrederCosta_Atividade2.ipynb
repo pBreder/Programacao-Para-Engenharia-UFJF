{
  "nbformat": 4,
  "nbformat_minor": 0,
  "metadata": {
    "colab": {
      "provenance": [],
      "toc_visible": true,
      "authorship_tag": "ABX9TyNIIT9IiFwCzkQhA6fB0uq7",
      "include_colab_link": true
    },
    "kernelspec": {
      "name": "python3",
      "display_name": "Python 3"
    },
    "language_info": {
      "name": "python"
    }
  },
  "cells": [
    {
      "cell_type": "markdown",
      "metadata": {
        "id": "view-in-github",
        "colab_type": "text"
      },
      "source": [
        "<a href=\"https://colab.research.google.com/github/pBreder/Programacao-Para-Engenharia-UFJF/blob/main/PedroBrederCosta_Atividade2.ipynb\" target=\"_parent\"><img src=\"https://colab.research.google.com/assets/colab-badge.svg\" alt=\"Open In Colab\"/></a>"
      ]
    },
    {
      "cell_type": "markdown",
      "source": [
        "# **Programação para Engenharia <font size = 4>(ENE140)</font> - Atividade 2 (03/10/2025)**"
      ],
      "metadata": {
        "id": "XrZisd3z6Dwu"
      }
    },
    {
      "cell_type": "markdown",
      "source": [
        "**Nome**: Pedro Breder Costa\n",
        "\n",
        "**Matrícula:** 202465680i\n",
        "\n",
        "**Turma:** A"
      ],
      "metadata": {
        "id": "RiW_4ADw6M86"
      }
    },
    {
      "cell_type": "markdown",
      "source": [
        "## **Exercício 1**\n"
      ],
      "metadata": {
        "id": "0BzyCeuYEbTn"
      }
    },
    {
      "cell_type": "code",
      "source": [
        "def estatisticas_basicas():\n",
        "  numeros = []\n",
        "\n",
        "  for i in range(3):\n",
        "    numero = float(input(f'Digite o {i+1}° número: '))\n",
        "    numeros.append(numero)\n",
        "\n",
        "  val_max = max(numeros)\n",
        "  val_min = min(numeros)\n",
        "  media = sum(numeros) / len(numeros)\n",
        "\n",
        "  return media, val_max, val_min\n",
        "\n",
        "media, maximo, minimo = estatisticas_basicas()\n",
        "\n",
        "print(f'\\nA média dos números é: {media}')\n",
        "print(f'O maior número é: {maximo}')\n",
        "print(f'O menor número é: {minimo}')"
      ],
      "metadata": {
        "id": "9LZFhIogEfXw"
      },
      "execution_count": null,
      "outputs": []
    },
    {
      "cell_type": "markdown",
      "source": [
        "Para a execução do exercício, poderiam ter sido adotados outros métodos que apresentassem melhor desempenho. No entanto, por se tratar de um código simples e sem grande complexidade de dados, não é relevante priorizar métodos mais rápidos, uma vez que, de qualquer forma, a execução do código será rápida.\n",
        "\n",
        "Ainda assim, é relevante demonstrar como diferentes implementações, que possuem o mesmo propósito, podem apresentar desempenhos distintos. Observe o exemplo a seguir:"
      ],
      "metadata": {
        "id": "312Q7Eap40Tg"
      }
    },
    {
      "cell_type": "code",
      "source": [
        "import time\n",
        "import random\n",
        "\n",
        "def medir(funcao):\n",
        "  t0 = time.time()\n",
        "  funcao()\n",
        "  t1 = time.time()\n",
        "\n",
        "  print(f'Função {funcao.__name__}: {t1 - t0} segundos')\n",
        "\n",
        "def loop_len():\n",
        "  soma = 0\n",
        "  maior = lista[0]\n",
        "  menor = lista[0]\n",
        "\n",
        "  for num in lista:\n",
        "    soma += num\n",
        "    if num > maior:\n",
        "      maior = num\n",
        "    elif num < menor:\n",
        "      menor = num\n",
        "\n",
        "  media = soma / len(lista)\n",
        "\n",
        "  return maior, menor, media\n",
        "\n",
        "def loop():\n",
        "  soma = 0\n",
        "  tam = 0\n",
        "  maior = lista[0]\n",
        "  menor = lista[0]\n",
        "\n",
        "  for num in lista:\n",
        "    tam += 1\n",
        "    soma += num\n",
        "    if num > maior:\n",
        "      maior = num\n",
        "    elif num < menor:\n",
        "      menor = num\n",
        "\n",
        "  media = soma / tam\n",
        "\n",
        "  return maior, menor, media\n",
        "\n",
        "def built_in():\n",
        "  val_max = max(lista)\n",
        "  val_min = min(lista)\n",
        "  media = sum(lista) / len(lista)\n",
        "\n",
        "  return media, val_max, val_min\n",
        "\n",
        "def ordenar():\n",
        "  copia = lista.copy()\n",
        "  copia.sort()\n",
        "  menor = copia[0]\n",
        "  maior = copia[-1]\n",
        "  media = sum(copia)/len(copia)\n",
        "\n",
        "  return maior, menor, media\n",
        "\n",
        "lista = list(range(20000000)) # Cria uma lista com 20 000 000 números\n",
        "random.shuffle(lista) # Embaralha a lista\n",
        "\n",
        "medir(loop_len)\n",
        "medir(loop)\n",
        "medir(built_in)\n",
        "medir(ordenar)"
      ],
      "metadata": {
        "id": "Ev4kXCeP7I0G"
      },
      "execution_count": null,
      "outputs": []
    },
    {
      "cell_type": "markdown",
      "source": [
        "É notável como alguns dos métodos podem ser significativamente ineficientes, como por exemplo o último caso, onde se ordena a lista por meio da função ```sort()``` e faz a indexação do maior e menor elemento, os quais correspondem ao ultimo e primeiro, respectivamente.\n",
        "\n",
        "Por outro lado, é possível verificar como alguns diferentes métodos podem apresentar desempenhos semelhantes, como o caso dos dois primeiros, em que os intervalos de tempo foram próximos."
      ],
      "metadata": {
        "id": "BVZ41qteNN28"
      }
    },
    {
      "cell_type": "markdown",
      "source": [
        "## **Exercício 2**"
      ],
      "metadata": {
        "id": "N9daz_Aw8gUT"
      }
    },
    {
      "cell_type": "code",
      "source": [
        "import math\n",
        "\n",
        "def area_circulo(raio):\n",
        "  return math.pi * pow(raio, 2)\n",
        "\n",
        "r = int(input('Digite a medida do raio em metros: '))\n",
        "area = area_circulo(r)\n",
        "\n",
        "print(round(area, 2))"
      ],
      "metadata": {
        "id": "4Ojhtbdw58Xz"
      },
      "execution_count": null,
      "outputs": []
    },
    {
      "cell_type": "markdown",
      "source": [
        "### *Observações e considerações*"
      ],
      "metadata": {
        "id": "DubyByfwPk_B"
      }
    },
    {
      "cell_type": "markdown",
      "source": [
        "**1.**\n",
        "\n",
        "É comum encontrar códigos com diferentes formas de se importar uma biblioteca, como por exemplo:\n",
        "\n",
        "```\n",
        "import ...\n",
        "```\n",
        "```\n",
        "from ... import ... #\n",
        "```\n",
        "```\n",
        "from ... import *\n",
        "```\n",
        "Todos esses métodos podem funcionar, dependendo da forma que são aplicados e do propósito do código. Porém, cabe citar que há metodos considerados mais seguros, já que evitam conflitos com nomes de variáveis e/ou funções de outras bibliotecas.\n",
        "\n",
        "A importação do tipo ``from ... import *`` não é recomendada, visto que, para utilizar o conteúdo disponibilizado pela biblioteca, não é necessário acessar a biblioteca escrevendo seu nome como prefixo, o que pode causar sobreescrita de uma variável ou função.\n",
        "\n",
        "Exemplos:\n",
        "\n",
        "<font size = 2>*(forma a se evitar)*</font>\n",
        "\n",
        "```\n",
        "from math import *\n",
        "\n",
        "print(pi) # 3.141592653589793\n",
        "pi = 3\n",
        "print(pi) # 3\n",
        "```\n",
        "\n",
        "<font size = 2>*(forma adequada)*</font>\n",
        "\n",
        "```\n",
        "import math\n",
        "\n",
        "print(pi) # NameError\n",
        "print(math.pi) # 3.141592653589793\n",
        "pi = 3\n",
        "print(pi) # 3\n",
        "```\n",
        "\n",
        "---\n",
        "\n",
        "**2.**\n",
        "\n",
        "Foi utilizada a função embutida do python ``pow(numero, expoente)``, a qual é responsável por elevar números à determinadas potencias. Ou seja,\n",
        "\n",
        "```\n",
        "pow(2, 1) # 2\n",
        "pow(2, 2) # 4\n",
        "pow(2, 3) # 8\n",
        "pow(2, 4) # 16\n",
        "```\n",
        "\n",
        "Tal função poderia ter sido subtituída pelo operador ``**`` da seguinte forma:\n",
        "\n",
        "```\n",
        "pow(2, 1) # = 2**1 = 2\n",
        "pow(2, 2) # = 2**2 = 4\n",
        "pow(2, 3) # = 2**3 = 8\n",
        "pow(2, 4) # = 2**4 = 16\n",
        "```"
      ],
      "metadata": {
        "id": "L9gZofNQP0-w"
      }
    },
    {
      "cell_type": "markdown",
      "source": [
        "## **Exercício 3**"
      ],
      "metadata": {
        "id": "VHP4oIuY8kYY"
      }
    },
    {
      "cell_type": "code",
      "source": [
        "import matplotlib.pyplot as plt\n",
        "import numpy as np\n",
        "\n",
        "def plotar_funcao():\n",
        "  x = np.linspace(-10,10,300)\n",
        "  y = np.log(x)\n",
        "\n",
        "  # Plot do gráfico\n",
        "  plt.plot(x,y)\n",
        "  plt.grid(True)\n",
        "\n",
        "  # Defincao dos limites dos eixos no gráfico\n",
        "  plt.xlim(-10,10)\n",
        "  plt.ylim(-3,3)\n",
        "\n",
        "  # Define nomes para melhor interpretação do gráfico\n",
        "  plt.title('Gráfico de Ln(x)')\n",
        "  plt.xlabel('X')\n",
        "  plt.ylabel('Y')\n",
        "\n",
        "  # plt.show()\n",
        "\n",
        "plotar_funcao()"
      ],
      "metadata": {
        "id": "vxW2zwSX8foJ"
      },
      "execution_count": null,
      "outputs": []
    },
    {
      "cell_type": "markdown",
      "source": [
        "### *Observações e considerações*"
      ],
      "metadata": {
        "id": "oxmlDuUYpMhe"
      }
    },
    {
      "cell_type": "markdown",
      "source": [
        "**1.**\n",
        "\n",
        "A função ```plt.show()``` é encarregada de realmente exibir a imagem do gráfico construído. No entanto, o Colab automaticamnte ja a imprime, mesmo que não se utilize a função ```plt.show()```.\n",
        "\n",
        "---\n",
        "\n",
        "**2.**\n",
        "\n",
        "Foram utilizadas algumas diferentes funções e seus argumentos para customização e melhor visualização dos gráficos, como por exemplo:\n",
        "\n",
        "```\n",
        "  plt.grid(bool) # Ativa a malha de fundo\n",
        "  plt.xlim(a,b) # Determina o limite de plot do domínio\n",
        "  plt.ylim(c,d) # Determina o limite de plot da imagem\n",
        "  plt.title('Gráfico da função F e G') # Titulo do gráfico\n",
        "  plt.xlabel('Eixo X') # Legenda indicando o nome do eixo x\n",
        "  plt.ylabel('Eixo Y') # Legenda indicando o nome do eixo y\n",
        "  plt.legend(['Função F', 'Função G']) # Legenda para diferenciar cada função plotada\n",
        "```\n",
        "\n",
        "---\n",
        "\n",
        "**3.**\n",
        "\n",
        "No trecho do código ```x = np.linspace(-10, 10, 300)```, define-se o intervalo do domínio e a quantidade de pontos a serem plotados e interpolados. Nesse caso, o intervalo é de -10 a 10, e serão interpolados 300 pontos. Caso o último argumento não seja informado, a função assumirá, por padrão, 50 pontos, o que pode afetar a qualidade do gráfico."
      ],
      "metadata": {
        "id": "vqCnbWxibl0_"
      }
    },
    {
      "cell_type": "markdown",
      "source": [
        "## **Desafio**"
      ],
      "metadata": {
        "id": "4_LQ8sBJIWOI"
      }
    },
    {
      "cell_type": "code",
      "source": [
        "import scipy.optimize\n",
        "import numpy as np\n",
        "import matplotlib.pyplot as plt\n",
        "\n",
        "def resolver_equacao(a,b,c):\n",
        "\n",
        "  f = lambda x: a*x**2 + b*x + c\n",
        "  solucao = scipy.optimize.fsolve(f, [-10,10])\n",
        "\n",
        "  return solucao\n",
        "\n",
        "print('Dado um polinômio de segundo grau do tipo ax^2 + bx + c, o qual deseja-se descobrir as suas raízes.')\n",
        "\n",
        "a = float(input('Digite o valor da constante a: '))\n",
        "b = float(input('Digite o valor da constante b: '))\n",
        "c = float(input('Digite o valor da constante c: '))\n",
        "\n",
        "sol = list(resolver_equacao(a,b,c))\n",
        "\n",
        "r1 = round(sol[0],3)\n",
        "r2 = round(sol[1],3)\n",
        "\n",
        "print(f'Primeira raiz: {r1}\\nSegunda raiz: {r2}')"
      ],
      "metadata": {
        "id": "Ie7rNhXXIZHY"
      },
      "execution_count": null,
      "outputs": []
    },
    {
      "cell_type": "markdown",
      "source": [
        "### *Observações*"
      ],
      "metadata": {
        "id": "xJ_-6rWTpfHi"
      }
    },
    {
      "cell_type": "markdown",
      "source": [
        "É valido ressaltar as limitações do método esolhido para a busca das raízes, o qual necessita de tentativas iniciais, o que pode acabar não atendendo às condições de convergência de tal método. Além disso, ```fsolve()``` não cobre casos onde as raízes não são reais.\n",
        "\n",
        "É fundamental citar também, que nesse caso, o código se limita a calcular raízes de polinômios de segundo grau."
      ],
      "metadata": {
        "id": "LJPCiM7OrW34"
      }
    }
  ]
}