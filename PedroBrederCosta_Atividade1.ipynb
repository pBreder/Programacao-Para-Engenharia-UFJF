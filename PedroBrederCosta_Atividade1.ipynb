{
  "nbformat": 4,
  "nbformat_minor": 0,
  "metadata": {
    "colab": {
      "provenance": [],
      "toc_visible": true,
      "authorship_tag": "ABX9TyOHzdMmdvrXWA3VpxBCVpNO",
      "include_colab_link": true
    },
    "kernelspec": {
      "name": "python3",
      "display_name": "Python 3"
    },
    "language_info": {
      "name": "python"
    }
  },
  "cells": [
    {
      "cell_type": "markdown",
      "metadata": {
        "id": "view-in-github",
        "colab_type": "text"
      },
      "source": [
        "<a href=\"https://colab.research.google.com/github/pBreder/Programacao-Para-Engenharia-UFJF/blob/main/PedroBrederCosta_Atividade1.ipynb\" target=\"_parent\"><img src=\"https://colab.research.google.com/assets/colab-badge.svg\" alt=\"Open In Colab\"/></a>"
      ]
    },
    {
      "cell_type": "markdown",
      "source": [
        "# **Programação para Engenharia <font size=4>(ENE140)</font> - Atividade 1 (26/09/2025)**"
      ],
      "metadata": {
        "id": "7JR_S07dLQ1J"
      }
    },
    {
      "cell_type": "markdown",
      "source": [
        "**Nome**: Pedro Breder Costa\n",
        "\n",
        "**Matrícula**: 202465680i\n",
        "\n",
        "**Turma**: A"
      ],
      "metadata": {
        "id": "3cFMmgcjJTQ8"
      }
    },
    {
      "cell_type": "markdown",
      "source": [
        "## **Exercício 1**"
      ],
      "metadata": {
        "id": "qVIn4MsvMKHb"
      }
    },
    {
      "cell_type": "code",
      "source": [
        "nome1 = 'Pedro Breder Costa'\n",
        "idade1 = 20\n",
        "curso1 = 'Engenharia Eletrica'\n",
        "notas1 = (10, 10, 9.81)\n",
        "\n",
        "aluno1 = {'nome': nome1 , 'idade': idade1, 'curso': curso1, 'notas': notas1}\n",
        "print(f\"Nome: {aluno1['nome']} // Idade: {aluno1['idade']} // Curso: {aluno1['curso']} // Notas: {aluno1['notas']}\")\n",
        "\n",
        "nome2 = 'Otto Soares Rodrigues'\n",
        "idade2 = 19\n",
        "curso2 = 'Engenharia Ambiental e Sanitária'\n",
        "notas2 = (10, 8, 9)\n",
        "\n",
        "aluno2 = {'nome': nome2 , 'idade': idade2, 'curso': curso2, 'notas': notas2}\n",
        "print(f\"Nome: {aluno2['nome']} // Idade: {aluno2['idade']} // Curso: {aluno2['curso']} // Notas: {aluno2['notas']}\")\n",
        "\n",
        "nome3 = 'Pedro Freidman Mattos'\n",
        "idade3 = 20\n",
        "curso3 = 'Arquitetura e Urbanismo'\n",
        "notas3 = (9, 8.5, 9.2)\n",
        "\n",
        "aluno3 = {'nome': nome3 , 'idade': idade3, 'curso': curso3, 'notas': notas3}\n",
        "print(f\"Nome: {aluno3['nome']} // Idade: {aluno3['idade']} // Curso: {aluno3['curso']} // Notas: {aluno3['notas']}\")"
      ],
      "metadata": {
        "id": "vaKhLS2sM7-Q",
        "colab": {
          "base_uri": "https://localhost:8080/"
        },
        "outputId": "ced3449c-ae36-48cb-b3b9-a66dc39fdc4d"
      },
      "execution_count": null,
      "outputs": [
        {
          "output_type": "stream",
          "name": "stdout",
          "text": [
            "Nome: Pedro Breder Costa // Idade: 20 // Curso: Engenharia Eletrica // Notas: (10, 10, 9.81)\n",
            "Nome: Otto Soares Rodrigues // Idade: 19 // Curso: Engenharia Ambiental e Sanitária // Notas: (10, 8, 9)\n",
            "Nome: Pedro Freidman Mattos // Idade: 20 // Curso: Arquitetura e Urbanismo // Notas: (9, 8.5, 9.2)\n"
          ]
        }
      ]
    },
    {
      "cell_type": "markdown",
      "source": [
        "É possível escrever o mesmo código de maneiras diferentes, observe uma forma alternativa:"
      ],
      "metadata": {
        "id": "LSW909KvyHE3"
      }
    },
    {
      "cell_type": "code",
      "source": [
        "aluno1 = {\n",
        "    'nome': 'Pedro Breder Costa',\n",
        "    'idade': 20,\n",
        "    'curso': 'Engenharia Elétrica',\n",
        "    'notas': (10, 10, 9.81)\n",
        "}\n",
        "\n",
        "print(f\"Nome: {aluno1['nome']} // Idade: {aluno1['idade']} // Curso: {aluno1['curso']} // Notas: {aluno1['notas']}\")\n",
        "\n",
        "aluno2 = {\n",
        "    'idade': 19,\n",
        "    'curso': 'Engenharia Ambiental e Sanitária',\n",
        "    'notas': (10, 8, 9),\n",
        "    'nome': 'Otto Soares Rodrigues'\n",
        "}\n",
        "\n",
        "print(f\"Nome: {aluno2['nome']} // Idade: {aluno2['idade']} // Curso: {aluno2['curso']} // Notas: {aluno2['notas']}\")\n",
        "\n",
        "aluno3 = {\n",
        "    'curso': 'Arquitetura e Urbanismo',\n",
        "    'idade': 20,\n",
        "    'nome': 'Pedro Freidman Mattos',\n",
        "    'notas': (9, 8.5, 9.2)\n",
        "}\n",
        "\n",
        "print(f\"Nome: {aluno3['nome']} // Idade: {aluno3['idade']} // Curso: {aluno3['curso']} // Notas: {aluno3['notas']}\")"
      ],
      "metadata": {
        "colab": {
          "base_uri": "https://localhost:8080/"
        },
        "id": "W1_6slmbubQK",
        "outputId": "b5e258f5-82f3-4465-9171-6738475309f2"
      },
      "execution_count": null,
      "outputs": [
        {
          "output_type": "stream",
          "name": "stdout",
          "text": [
            "Nome: Pedro Breder Costa // Idade: 20 // Curso: Engenharia Elétrica // Notas: (10, 10, 9.81)\n",
            "Nome: Otto Soares Rodrigues // Idade: 19 // Curso: Engenharia Ambiental e Sanitária // Notas: (10, 8, 9)\n",
            "Nome: Pedro Freidman Mattos // Idade: 20 // Curso: Arquitetura e Urbanismo // Notas: (9, 8.5, 9.2)\n"
          ]
        }
      ]
    },
    {
      "cell_type": "markdown",
      "source": [
        "### Observações e conclusões\n",
        "\n"
      ],
      "metadata": {
        "id": "bc4gmn2lygMr"
      }
    },
    {
      "cell_type": "markdown",
      "source": [
        "**1.**\n",
        "\n",
        "Com a escrita e a execução dos dois diferentes códigos é possível verificar que, mesmo estando estruturalmente diferentes, os dois têm o mesmo *output*. No entanto, para alguns, um método de escrita pode ser melhor e mais organizado que outro.\n",
        "\n",
        "---\n",
        "\n",
        "**2.**\n",
        "\n",
        "É relevante notar como funciona a indexação de elementos de um dicionário e compará-lo com o que será feito no exercício 2 com o uso de listas.\n",
        "\n",
        "Quando se trata de listas e tuplas, acessar elementos desses compostos consiste em usar o índice (posição) do elemento que busca entre colchetes após o nome do composto. Ou seja,\n",
        "\n",
        "```\n",
        "lista = [10, 20, 30]\n",
        "\n",
        "# lista[0] => 10\n",
        "# lista[1] => 20\n",
        "# lista[2] => 30\n",
        "\n",
        "tupla = ('hello', [1,2,3])\n",
        "\n",
        "# tupla[0] => hello\n",
        "# tupla[1] => [1,2,3]\n",
        "```\n",
        "<font size = 1>*OBS: Em Python o elemento inicial de uma lista ou uma tupla corresponde ao índice 0*.\n",
        "\n",
        "No entanto, no caso dos dicionários, esse processo funciona de forma diferente.\n",
        "\n",
        "Primeiramente, é fundamental compreender a estrutura dos dicionários, os quais se baseiam no formato *key-value* (chave-valor). Por exemplo:\n",
        "\n",
        "```\n",
        "'idade': 20\n",
        "```\n",
        "<font size = 1> *Trecho extraído do código.*\n",
        "\n",
        "\n",
        "Nesse caso, `'idade'` é a _key_ e `20` o _value_.\n",
        "\n",
        "Diante disso, facilita-se a compreensão da indexação em dicionários, em que, em vez de se utilizarem números inteiros como índices, utilizam-se as _keys_ e são retornados os _values_. Assim,\n",
        "\n",
        "```\n",
        "carro1 = {\n",
        "  'ano': 1988,\n",
        "  'cor': 'Vermelho',\n",
        "  'marca': 'Volkswagen',\n",
        "  'modelo': 'Gol'\n",
        "  }\n",
        "\n",
        "# carro1['modelo'] => 'Gol'\n",
        "# carro1['cor'] => 'Vermelho'\n",
        "# carro1['ano'] => 1988\n",
        "# carro1['marca'] => 'Volkswagen'\n",
        "```\n",
        "<font size = 1> *Trecho criado apenas com intuitos de exemplificar os estudos.*\n",
        "\n",
        "Portanto, é por esse motivo que alterar a ordem dos pares *key-value* dentro do dicionário não afeta o resultado, pois a indexação não é feita com base em índices numéricos, mas sim nas chaves que ele contém. Isso justifica o fato do primeiro código imprimir o mesmo que o segundo, ainda que estejam organizados de maneiras diferentes."
      ],
      "metadata": {
        "id": "KXznL44Wzoxb"
      }
    },
    {
      "cell_type": "markdown",
      "source": [
        "## **Exercício 2**\n",
        "\n"
      ],
      "metadata": {
        "id": "r9TBFdX_jQn6"
      }
    },
    {
      "cell_type": "code",
      "source": [
        "# Cria a lista e atribui os seus valores\n",
        "notas_1 = [6.5, 8.0, 7.2]\n",
        "print(f'Essa é sua lista de notas original: {notas_1}')\n",
        "\n",
        "# Adiciona a nota '9' à lista notas\n",
        "notas_2 = notas_1.copy() # Para futuramente calcular a media das notas iniciais, cria-se um novo vetor para nao sobreescrever o inicial\n",
        "notas_2.append(9.0)\n",
        "print(f'Lista após adição da nota 9: {notas_2}')\n",
        "\n",
        "# Remove o elemento no indice 1 da lista notas\n",
        "notas_2.pop(0)\n",
        "print(f'Lista após remoção da 1° nota: {notas_2}')\n",
        "\n",
        "# Uso das funções embutidas no python sum() e len() para somar os elementos da lista e obter o tamanho da lista, respectivamente\n",
        "media_notas = sum(notas_2)/len(notas_2)\n",
        "print(f'Média das notas: {media_notas:.2f}\\n')\n",
        "\n",
        "# Filtro para notas acima de 7\n",
        "\n",
        "# Cria-se listas vazias para futuramente alocar as notas acima de 7\n",
        "notas1_filtradas = []\n",
        "notas2_filtradas = []\n",
        "\n",
        "for nota in notas_1: # Será analisado cada nota contida na lista de notas\n",
        "  if nota > 7: # Verifica se a nota analisada na iteração é maior que 7\n",
        "    notas1_filtradas.append(nota) # Se for maior, ela é adicionada à lista de notas filtradas\n",
        "\n",
        "for nota in notas_2:\n",
        "  if nota > 7:\n",
        "    notas2_filtradas.append(nota)\n",
        "\n",
        "print(f'Lista de notas original filtrada: {notas1_filtradas}')\n",
        "print(f'Lista de notas modificada filtrada: {notas2_filtradas}')"
      ],
      "metadata": {
        "colab": {
          "base_uri": "https://localhost:8080/"
        },
        "id": "mtulOqrGjkgQ",
        "outputId": "5d16faa9-ab96-4582-f556-3d56c6f07a90"
      },
      "execution_count": null,
      "outputs": [
        {
          "output_type": "stream",
          "name": "stdout",
          "text": [
            "Essa é sua lista de notas original: [6.5, 8.0, 7.2]\n",
            "Lista após adição da nota 9: [6.5, 8.0, 7.2, 9.0]\n",
            "Lista após remoção da 1° nota: [8.0, 7.2, 9.0]\n",
            "Média das notas: 8.07\n",
            "\n",
            "Lista de notas original filtrada: [8.0, 7.2]\n",
            "Lista de notas modificada filtrada: [8.0, 7.2, 9.0]\n"
          ]
        }
      ]
    },
    {
      "cell_type": "markdown",
      "source": [
        "Para o cálculo da média das notas, foram utilizadas funções que o *Python* disponibiliza (*built-in functions*, ou funções embutidas), assim como a função `type()`, `pop()`, `sort()`, entre outras. No entanto, supondo que o exercício trata-se de um caso específico e direto, onde a lista não se altera e são sempre as notas 6.5, 8.0, 7.2, é possivel calcular a média sem o uso de funções, da seguinte forma:\n"
      ],
      "metadata": {
        "id": "8zdjLpjiLYCZ"
      }
    },
    {
      "cell_type": "code",
      "source": [
        "notas = [8.0, 7.2, 9]\n",
        "media_notas = (8 + 7.2 + 9)/3\n",
        "print(f'Média das notas: {media_notas:.2f}')"
      ],
      "metadata": {
        "colab": {
          "base_uri": "https://localhost:8080/"
        },
        "id": "IOf6Jd8XPESV",
        "outputId": "83871f49-182a-401a-da2b-1d1562dcb6fb"
      },
      "execution_count": null,
      "outputs": [
        {
          "output_type": "stream",
          "name": "stdout",
          "text": [
            "Média das notas: 8.07\n"
          ]
        }
      ]
    },
    {
      "cell_type": "markdown",
      "source": [
        "Ou então, sabendo ao menos que o número de elementos da lista não se altera, ou seja, se mantem igual a 3, pode-se calcular da seguinte maneira:"
      ],
      "metadata": {
        "id": "rJ-SnDaOPQ3l"
      }
    },
    {
      "cell_type": "code",
      "source": [
        "notas = [8.0, 7.2, 9]\n",
        "media_notas = (notas[0] + notas[1] + notas[2])/3\n",
        "print(f'Média das notas: {media_notas:.2f}')"
      ],
      "metadata": {
        "colab": {
          "base_uri": "https://localhost:8080/"
        },
        "id": "0P8LdnJsS62u",
        "outputId": "b689a1d2-2720-4301-d134-6edd91634330"
      },
      "execution_count": null,
      "outputs": [
        {
          "output_type": "stream",
          "name": "stdout",
          "text": [
            "Média das notas: 8.07\n"
          ]
        }
      ]
    },
    {
      "cell_type": "markdown",
      "source": [
        "### *Observações e conclusões*\n"
      ],
      "metadata": {
        "id": "EY18Z7NBT9b8"
      }
    },
    {
      "cell_type": "markdown",
      "source": [
        "**1.**\n",
        "\n",
        "`:.xf` Trata-se de uma propriedade do _Python_ para arredondar valores númericos, onde `x` é um numero natural qualquer e representa a quantidade de casas decimais que se deseja utilizar no processo de arredondamento. Além disso, `f` significa que se trata de um número decimal (_float_).\n",
        "\n",
        "---\n",
        "\n",
        "**2.**\n",
        "\n",
        "É possível notar que, ao adicionar um elemento a uma lista por meio da função `append()`, esse elemento será alocado na última posição da lista.\n",
        "\n",
        "---\n",
        "\n",
        "**3.**\n",
        "\n",
        "Conclui-se que os resultados foram os mesmos nos cálculos das médias, variando somente a abordagem utilizada em cada código.\n",
        "\n",
        "No entanto, em aplicações mais complexas e estruturadas, é mais apropriado aplicar a abordagem do primeiro código, visto que não é necessário saber quais são os elementos da lista, nem mesmo a quantidade de elementos que ela possui."
      ],
      "metadata": {
        "id": "KJ26HyrrehwP"
      }
    },
    {
      "cell_type": "markdown",
      "source": [
        "## **Exercício 3**"
      ],
      "metadata": {
        "id": "qvKqj-3_lyPk"
      }
    },
    {
      "cell_type": "code",
      "source": [
        "num_int = 10\n",
        "num_float = 3.1415\n",
        "palavra = 'hello world'\n",
        "lista = [1, ('UFJF', 'UFMG'), [{'Pi':3.1415, 'Euler':2.71828}, {'JF':32, 'RJ':21}]]\n",
        "\n",
        "print(f'Tipo da variável num_int (10): {type(num_int)}')\n",
        "print(f'Tipo da variável num_float (3.1415): {type(num_float)}')\n",
        "print(f'Tipo da variável palavra: {type(palavra)}')\n",
        "print(f'Tipo da variável lista: {type(lista)}\\n')\n",
        "\n",
        "# Atribuindo novos valores de tipos diferentes às variáveis\n",
        "\n",
        "num_int = 10.0\n",
        "num_float = (3.1415,)\n",
        "palavra = ['hello world']\n",
        "lista = \"1, 2, 3\"\n",
        "\n",
        "print('Tipo das variáveis após as novas atribuições:\\n')\n",
        "print(f'Tipo da variável num_int (10.0): {type(num_int)}')\n",
        "print(f'Tipo da variável num_float ((3.1415,)): {type(num_float)}')\n",
        "print(f'Tipo da variável palavra ([\"hello world\"]): {type(palavra)}')\n",
        "print(f'Tipo da variável lista (\"1, 2, 3\"): {type(lista)}')"
      ],
      "metadata": {
        "colab": {
          "base_uri": "https://localhost:8080/"
        },
        "id": "DYza0haDl8Tn",
        "outputId": "ef577bfd-84a1-49f0-dd4a-027188b530e8"
      },
      "execution_count": null,
      "outputs": [
        {
          "output_type": "stream",
          "name": "stdout",
          "text": [
            "Tipo da variável num_int (10): <class 'int'>\n",
            "Tipo da variável num_float (3.1415): <class 'float'>\n",
            "Tipo da variável palavra: <class 'str'>\n",
            "Tipo da variável lista: <class 'list'>\n",
            "\n",
            "Tipo das variáveis após as novas atribuições:\n",
            "\n",
            "Tipo da variável num_int (10.0): <class 'float'>\n",
            "Tipo da variável num_float ((3.1415,)): <class 'tuple'>\n",
            "Tipo da variável palavra ([\"hello world\"]): <class 'list'>\n",
            "Tipo da variável lista (\"1, 2, 3\"): <class 'str'>\n"
          ]
        }
      ]
    },
    {
      "cell_type": "markdown",
      "source": [
        "Diante desse código, é pertinente avaliar como os diferentes tipos de variáveis se comportam:\n",
        "- Simples: São as variáveis que se pode atribuir somente um valor, sendo ele uma *str* (palavra), *int* (número inteiro), *float* (número decimal), *bool* (valor lógico - verdadeiro ou falso), entre outros. Como por exemplo:\n",
        "  - `num_int = 10` -> Número inteiro, variável simples.\n",
        "  - `num_float = 3.1415` -> Número decimal, variável simples.\n",
        "  - `palavra = 'hello world'` -> String, variável simples.\n",
        "- Compostos: Variáveis capazes de se armazenar um conjunto de outras variáveis, que não necessariamente são simples. Como por exemplo, a primeira `lista` armazena:\n",
        "  - `1` -> Número inteiro, variável simples.\n",
        "  - `('UFJF','UFMG')` -> Tupla, variável composta que contém:\n",
        "    - `UFJF` -> String, variável simples.\n",
        "    - `UFMG` -> String, variável simples.\n",
        "  - `[{'Pi':3.1415, 'Euler':2.71828}, {'JF':32, 'RJ':21}]` -> Lista, variável composta, que contém:\n",
        "    - `{'Pi':3.1415, 'Euler':2.71828}` -> Dicionário, variável composta, mapeado da forma:\n",
        "      - `Pi` -> _Key_ <font size = 1>(1)</font>\n",
        "      - `3.1415` -> _Value_ <font size = 1>(1)</font>\n",
        "      - `Euler` -> _Key_ <font size = 1>(2)</font>\n",
        "      - `2.71828` -> _Value_ <font size = 1>(2)</font>\n",
        "    - `{'JF':32, 'RJ':21}` -> Dicionário, variável composta, que contém:\n",
        "      - `JF` -> _Key_ <font size = 1>(1)</font>\n",
        "      - `32` -> _Value_ <font size = 1>(1)</font>\n",
        "      - `RJ` -> _Key_ <font size = 1>(2)</font>\n",
        "      - `21` -> _Value_ <font size = 1>(2)</font>"
      ],
      "metadata": {
        "id": "m4NdFVTbRSoo"
      }
    },
    {
      "cell_type": "markdown",
      "source": [
        "Note que, ao atribuir diferentes valores às variáveis, alteram-se os tipos das variáveis. Ou seja, uma variável que antes era do tipo *int*, ao receber um valor decimal (*float*), passa a ser do tipo *float*. Isso é chamado de **tipagem dinâmica**, propriedade que algumas linguagens, como *Python* e *JavaScript*, adotam.\n"
      ],
      "metadata": {
        "id": "pK1nXrdkIHFx"
      }
    },
    {
      "cell_type": "markdown",
      "source": [
        "### *Linguagens dinamicamente e estaticamente tipadas*"
      ],
      "metadata": {
        "id": "P-lLT70tYh4X"
      }
    },
    {
      "cell_type": "markdown",
      "source": [
        "Observe o que ocorre caso tente manipular as variáveis em *C++* da mesma forma que foi feita no código anterior feito em *Python*:"
      ],
      "metadata": {
        "id": "yyE2XKM8Y7GN"
      }
    },
    {
      "cell_type": "code",
      "source": [
        "# Cria um arquivo em C++\n",
        "%%writefile tipagem_dinamica.cpp\n",
        "\n",
        "#include <iostream>\n",
        "#include <string>\n",
        "\n",
        "int main(){\n",
        "\n",
        "  int x = 10;\n",
        "  std::cout << \"x = \" << x;\n",
        "\n",
        "  x = \"hello world\";\n",
        "\n",
        "  return 0;\n",
        "}"
      ],
      "metadata": {
        "colab": {
          "base_uri": "https://localhost:8080/"
        },
        "id": "YwKNtYZkKzlI",
        "outputId": "19de00b4-8dbb-4595-fe1f-5964b99a7d00"
      },
      "execution_count": null,
      "outputs": [
        {
          "output_type": "stream",
          "name": "stdout",
          "text": [
            "Overwriting tipagem_dinamica.cpp\n"
          ]
        }
      ]
    },
    {
      "cell_type": "code",
      "source": [
        "!g++ tipagem_dinamica.cpp -o tipagem_dinamica # Compila o arquivo em C++ e gera um executavel\n",
        "!./tipagem_dinamica # Roda o executável"
      ],
      "metadata": {
        "id": "j-Dd-9ypMcZo"
      },
      "execution_count": null,
      "outputs": []
    },
    {
      "cell_type": "markdown",
      "source": [
        "Percebe-se que o output do código retorna um erro justamente quanto a essa troca do tipo da variavel, uma vez que, nesse caso, a variável `x` foi inicializada como um inteiro e não como string.\n",
        "\n",
        "~~~\n",
        "(error: invalid conversion from ‘const char*’ to ‘int’)\n",
        "~~~\n",
        "\n",
        "Isso mostra a diferença de comportamento entre uma linguagem dinamicamente tipada (*Python*), onde o valor atribuído é o que define o tipo da variável, e uma linguagem de tipagem estática (*C++*), onde o tipo da variável é declarado explicitamente pelo programador."
      ],
      "metadata": {
        "id": "VgOabqYHUpgd"
      }
    }
  ]
}