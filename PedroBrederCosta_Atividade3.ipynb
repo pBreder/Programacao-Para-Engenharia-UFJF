{
  "nbformat": 4,
  "nbformat_minor": 0,
  "metadata": {
    "colab": {
      "provenance": [],
      "toc_visible": true,
      "authorship_tag": "ABX9TyM2m4hRKGwnEJg2YHtp7cfw",
      "include_colab_link": true
    },
    "kernelspec": {
      "name": "python3",
      "display_name": "Python 3"
    },
    "language_info": {
      "name": "python"
    }
  },
  "cells": [
    {
      "cell_type": "markdown",
      "metadata": {
        "id": "view-in-github",
        "colab_type": "text"
      },
      "source": [
        "<a href=\"https://colab.research.google.com/github/pBreder/Programacao-Para-Engenharia-UFJF/blob/main/PedroBrederCosta_Atividade3.ipynb\" target=\"_parent\"><img src=\"https://colab.research.google.com/assets/colab-badge.svg\" alt=\"Open In Colab\"/></a>"
      ]
    },
    {
      "cell_type": "markdown",
      "source": [
        "# **Programação para Engenharia <font size = 4>(ENE140)</font> - Atividade 3 (10/10/2025)**"
      ],
      "metadata": {
        "id": "xH3YgO4uIlUN"
      }
    },
    {
      "cell_type": "markdown",
      "source": [
        "**Nome**: Pedro Breder Costa\n",
        "\n",
        "**Matrícula:** 202465680i\n",
        "\n",
        "**Turma:** A"
      ],
      "metadata": {
        "id": "lLtlDM_lJR6z"
      }
    },
    {
      "cell_type": "markdown",
      "source": [
        "## **Exercício 1**"
      ],
      "metadata": {
        "id": "0sTPu2GwJYQd"
      }
    },
    {
      "cell_type": "code",
      "source": [
        "import random\n",
        "\n",
        "qtd = int(input('Digite a quantidade de números que deseja sortear: '))\n",
        "\n",
        "numeros = []\n",
        "pares = []\n",
        "\n",
        "for i in range(qtd):\n",
        "  numeros.append(random.randint(1,50))\n",
        "\n",
        "for num in numeros:\n",
        "  if  num % 2 == 0:\n",
        "    pares.append(num)\n",
        "\n",
        "print(f'Lista original de números: {numeros}')\n",
        "print(f'Lista dos números pares: {pares}')"
      ],
      "metadata": {
        "id": "PqX-Sjv5LpOx"
      },
      "execution_count": null,
      "outputs": []
    },
    {
      "cell_type": "markdown",
      "source": [
        "### *Comentários*\n"
      ],
      "metadata": {
        "id": "K9kWinrWbGDW"
      }
    },
    {
      "cell_type": "markdown",
      "source": [
        "Para sortear os números utilizou-se a biblioteca `random`, a qual disponibiliza diversos métodos para selecionar itens de uma lista de forma aleatória. Nesse caso, aplicou-se a função `randint()`. No entanto, é possível realizar a atividade usando `choice()`, `choices()` e `randrange()`, por exemplo. Observe suas funcionalidades:\n",
        "- `randint(a,b)` : Seleciona um número inteiro entre `a` e `b`.\n",
        "- `choice(seq)` : Escolhe um elemento qualquer de uma sequencia`seq`, podendo ser uma tupla, lista, etc.\n",
        "- `choices(seq, weights, k=n)` : Semelhante ao `choice()`, porém, nesse caso, será feito um sorteio com repetições e é possível passar mais parâmetros para a função, sendo alguns destes:\n",
        "  - `seq` : Assim como no `choice()` é uma variável composta.\n",
        "  - `weights` : São pesos que influenciam na probabilidade de se sortear um elemento de `seq`.\n",
        "  - `k` : Trata-se do número de elementos que deseja-se sortear.\n",
        "- `randrange(start, stop, step)` : É selecionado um elemento $x$ qualquer no intervalo `start` $\\leq x <$  `stop`, iterando diante de um determinado passo `step`."
      ],
      "metadata": {
        "id": "VdD5ktw9bsZU"
      }
    },
    {
      "cell_type": "markdown",
      "source": [
        "## **Exercício 2**"
      ],
      "metadata": {
        "id": "TccmPjBKTZG9"
      }
    },
    {
      "cell_type": "code",
      "source": [
        "dados = {}\n",
        "\n",
        "while True:\n",
        "\n",
        "  while True:\n",
        "    nome = input('Digite o nome do aluno: ').capitalize().strip()\n",
        "\n",
        "    if nome == '':\n",
        "      print('Por favor, insira algum nome.')\n",
        "    else:\n",
        "      break\n",
        "\n",
        "  notas = []\n",
        "\n",
        "  for i in range(2): # Exercicio pede somente 2 notas\n",
        "    nota = float(input(f'Digite a {i+1}° nota: '))\n",
        "    notas.append(nota)\n",
        "\n",
        "  dados[nome] = notas\n",
        "\n",
        "  while True:\n",
        "      opcao = input('Deseja adicionar mais alunos? (s/n)').strip().lower()\n",
        "\n",
        "      if opcao not in ('s','n'):\n",
        "        print('Por favor, digite alguma das opcoes: S -> sim ou N -> não.')\n",
        "      else:\n",
        "        break\n",
        "\n",
        "  if opcao == 'n':\n",
        "    break\n",
        "\n",
        "print('Cadastros realizados!')\n",
        "\n",
        "for nome, notas in dados.items():\n",
        "  media = sum(notas)/len(notas)\n",
        "  situacao = 'Aprovado' if media >= 6 else 'Reprovado'\n",
        "  print(f\"Aluno: {nome} | Média: {media} | Situação: {situacao}\")"
      ],
      "metadata": {
        "id": "pELGH5m5Tck-"
      },
      "execution_count": null,
      "outputs": []
    },
    {
      "cell_type": "markdown",
      "source": [
        "### *Comentários e observações*"
      ],
      "metadata": {
        "id": "qW136OcX1LqT"
      }
    },
    {
      "cell_type": "markdown",
      "source": [
        "**1.**\n",
        "\n",
        "Na linha de número 30 foi utilizado um método para agilizar e deixar o código mais limpo, o qual é chamado de operador ternário.\n",
        "\n",
        "```\n",
        "situacao = 'Aprovado' if media >= 6 else 'Reprovado'\n",
        "```\n",
        "\n",
        "De forma extensa, esse trecho equivale a:\n",
        "\n",
        "```\n",
        "if media >= 6:\n",
        "  situação = 'Aprovado'\n",
        "else:\n",
        "  situacao = 'Reprovado'\n",
        "```\n",
        "\n",
        "---\n",
        "\n",
        "**2.**\n",
        "\n",
        "Para melhor tratamento dos dados de entrada, utilizou-se a função `strip()` e `lower()` a fim de padronizar os formatos das entradas. Onde,\n",
        "\n",
        "`strip(a)` : Remove determinada string `a` do início ou fim uma outra string (se não for passado argumentos para função, ela irá retirar espaços em branco `' '`). Por exemplo:\n",
        "```\n",
        "palavra1 = '  Hello-world '\n",
        "palavra.strip() # 'Hello-world'\n",
        "\n",
        "palavra2 = 'Universidade Federal JF'\n",
        "palavra2.strip('Unive') # 'rsidade Federal JF'\n",
        "```\n",
        "\n",
        "`lower()` : Transforma todos os caracteres maiúsculos de uma string em minúsculos.\n",
        "\n",
        "```\n",
        "palavra1 = '  Hello-world '\n",
        "palavra.lower() # 'hello-world'\n",
        "\n",
        "palavra2 = 'Universidade Federal JF'\n",
        "palavra2.lower() # 'universidade federal jf'\n",
        "```"
      ],
      "metadata": {
        "id": "SXGSLOrW1QH4"
      }
    },
    {
      "cell_type": "markdown",
      "source": [
        "## **Exercício 3**\n",
        "\n"
      ],
      "metadata": {
        "id": "pm4kMxuS2wbT"
      }
    },
    {
      "cell_type": "code",
      "source": [
        "# infos = [['segunda', 25],['terca', 26],['quarta', 20],['quinta', 18],['sexta', 21],['sabado', 27],['domingo', 25]]\n",
        "import numpy as np\n",
        "\n",
        "infos = []\n",
        "\n",
        "for i in range(7): # itera 7 vezes, o que corresponde a cada dia da semana\n",
        "\n",
        "  while True:\n",
        "    dia = input('Insira o dia da semana: ').capitalize().strip()\n",
        "\n",
        "    if dia == '':\n",
        "      print('Por favor, insira o dia da semana.')\n",
        "    else:\n",
        "      break\n",
        "\n",
        "  temp = float(input('Insira a temparatura no respectivo dia: '))\n",
        "\n",
        "  infos.append([dia, temp])\n",
        "\n",
        "lim = int(input('\\nDigite uma temperatura limite: '))\n",
        "d_acima = []\n",
        "\n",
        "for info in infos: # info é cada lista dentro da lista infos\n",
        "  if info[1] > lim:\n",
        "    d_acima.append(info[0])\n",
        "\n",
        "print(f\"\\nDias com temperatura acima do limite: {', '.join(d_acima)}\")\n",
        "\n",
        "l_temp = []\n",
        "\n",
        "for info in infos:\n",
        "  l_temp.append(info[1])\n",
        "\n",
        "l_temp = np.array(l_temp)\n",
        "\n",
        "media = np.mean(l_temp)\n",
        "mediana = np.median(l_temp)\n",
        "\n",
        "maximo = max(l_temp)\n",
        "minimo = min(l_temp)\n",
        "\n",
        "for info in infos:\n",
        "  if info[1] == maximo:\n",
        "    d_max = info[0]\n",
        "  elif info[1] == minimo:\n",
        "    d_min = info[0]\n",
        "\n",
        "print(f\"\\nMédia das temperaturas: {round(media, 2)}°C\")\n",
        "print(f\"Mediana das temperaturas: {mediana}°C\")\n",
        "print(f\"Temperatura mínima: {minimo}°C -> {d_min}\")\n",
        "print(f\"Temperatura máxima: {maximo}°C -> {d_max}\")"
      ],
      "metadata": {
        "id": "1KWMLF9L3Nkx"
      },
      "execution_count": null,
      "outputs": []
    },
    {
      "cell_type": "markdown",
      "source": [
        "Para a escrita do código, optou-se por utilizar a biblioteca Numpy. No entanto, é possível adotar outros métodos que proporcionam a mesma funcionalidade que as funçoes impostas nesse código. Exemplos: **SciPy** e **Statistics**.\n",
        "\n",
        "```\n",
        "statistics.mean() # Retorna a média de um conjunto de números\n",
        "statistics.median() # Retorna a mediana de um conjunto de números\n",
        "```\n",
        "\n",
        "Além disso, é possível fazer uso de dicionários em vez de listas para alocar os dias da semana e suas temperaturas, por meio de pares *Key-Value*.\n",
        "\n",
        "\n",
        "Exemplo:\n",
        "```\n",
        "infos = {'seg': 20, 'ter': 25, 'qua': 23, 'qui': 19, 'sex': 22, 'sab': 21, 'dom': 18}\n",
        "```"
      ],
      "metadata": {
        "id": "o9bwdCF8JVW3"
      }
    }
  ]
}